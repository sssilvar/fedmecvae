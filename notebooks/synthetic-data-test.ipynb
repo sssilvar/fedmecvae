{
 "cells": [
  {
   "cell_type": "markdown",
   "metadata": {},
   "source": [
    "# Testing cVAE as harmonization tool on real brain data"
   ]
  },
  {
   "cell_type": "code",
   "execution_count": 1,
   "metadata": {
    "ExecuteTime": {
     "end_time": "2023-07-03T21:48:48.725045Z",
     "start_time": "2023-07-03T21:48:48.687551Z"
    }
   },
   "outputs": [],
   "source": [
    "import os.path\n",
    "%load_ext autoreload\n",
    "%autoreload 2"
   ]
  },
  {
   "cell_type": "code",
   "execution_count": 1,
   "metadata": {
    "ExecuteTime": {
     "end_time": "2023-07-03T21:48:50.196778Z",
     "start_time": "2023-07-03T21:48:48.723716Z"
    }
   },
   "outputs": [],
   "source": [
    "from mecvae.lit import RealBrainMeasuresDataModule\n",
    "\n",
    "data_module = RealBrainMeasuresDataModule('/Users/ssilvari/Downloads/fedcombat_synthetic_data/test/non_harmonized_data.csv', cat_cols=('Sex',), batch_size=6)"
   ]
  },
  {
   "cell_type": "code",
   "execution_count": 2,
   "metadata": {
    "ExecuteTime": {
     "end_time": "2023-07-03T21:48:50.353056Z",
     "start_time": "2023-07-03T21:48:50.192875Z"
    }
   },
   "outputs": [
    {
     "name": "stdout",
     "output_type": "stream",
     "text": [
      "Reading /Users/ssilvari/Downloads/fedcombat_synthetic_data/test/non_harmonized_data.csv...\n",
      "Number of numerical variables: self.n_num_cols=4\n",
      "Number of categorical variables: self.n_cat_cols=1\n",
      "Number of batches: 10\n"
     ]
    }
   ],
   "source": [
    "data_module.prepare_data()\n",
    "data_module.setup()"
   ]
  },
  {
   "cell_type": "code",
   "execution_count": 3,
   "metadata": {
    "ExecuteTime": {
     "end_time": "2023-07-03T21:48:50.401740Z",
     "start_time": "2023-07-03T21:48:50.354756Z"
    }
   },
   "outputs": [
    {
     "data": {
      "text/html": [
       "<div>\n",
       "<style scoped>\n",
       "    .dataframe tbody tr th:only-of-type {\n",
       "        vertical-align: middle;\n",
       "    }\n",
       "\n",
       "    .dataframe tbody tr th {\n",
       "        vertical-align: top;\n",
       "    }\n",
       "\n",
       "    .dataframe thead th {\n",
       "        text-align: right;\n",
       "    }\n",
       "</style>\n",
       "<table border=\"1\" class=\"dataframe\">\n",
       "  <thead>\n",
       "    <tr style=\"text-align: right;\">\n",
       "      <th></th>\n",
       "      <th>C(Sex)[Female]</th>\n",
       "      <th>C(Sex)[Male]</th>\n",
       "      <th>standardize(Q(\"Age\"))</th>\n",
       "      <th>standardize(Q(\"eTIV\"))</th>\n",
       "      <th>standardize(Q(\"y_0\"))</th>\n",
       "      <th>standardize(Q(\"y_1\"))</th>\n",
       "    </tr>\n",
       "  </thead>\n",
       "  <tbody>\n",
       "    <tr>\n",
       "      <th>SUB_0_SITE_0</th>\n",
       "      <td>1.0</td>\n",
       "      <td>0.0</td>\n",
       "      <td>2.151577</td>\n",
       "      <td>0.929978</td>\n",
       "      <td>-0.690339</td>\n",
       "      <td>0.665926</td>\n",
       "    </tr>\n",
       "    <tr>\n",
       "      <th>SUB_1_SITE_0</th>\n",
       "      <td>1.0</td>\n",
       "      <td>0.0</td>\n",
       "      <td>1.186107</td>\n",
       "      <td>0.927382</td>\n",
       "      <td>-0.902737</td>\n",
       "      <td>-0.193873</td>\n",
       "    </tr>\n",
       "    <tr>\n",
       "      <th>SUB_2_SITE_0</th>\n",
       "      <td>0.0</td>\n",
       "      <td>1.0</td>\n",
       "      <td>1.257040</td>\n",
       "      <td>0.450961</td>\n",
       "      <td>1.148109</td>\n",
       "      <td>0.819459</td>\n",
       "    </tr>\n",
       "    <tr>\n",
       "      <th>SUB_3_SITE_0</th>\n",
       "      <td>1.0</td>\n",
       "      <td>0.0</td>\n",
       "      <td>0.862002</td>\n",
       "      <td>0.928355</td>\n",
       "      <td>-0.915231</td>\n",
       "      <td>-0.639821</td>\n",
       "    </tr>\n",
       "    <tr>\n",
       "      <th>SUB_4_SITE_0</th>\n",
       "      <td>1.0</td>\n",
       "      <td>0.0</td>\n",
       "      <td>1.404043</td>\n",
       "      <td>0.932197</td>\n",
       "      <td>-0.677242</td>\n",
       "      <td>-0.029836</td>\n",
       "    </tr>\n",
       "    <tr>\n",
       "      <th>...</th>\n",
       "      <td>...</td>\n",
       "      <td>...</td>\n",
       "      <td>...</td>\n",
       "      <td>...</td>\n",
       "      <td>...</td>\n",
       "      <td>...</td>\n",
       "    </tr>\n",
       "    <tr>\n",
       "      <th>SUB_491_SITE_9</th>\n",
       "      <td>1.0</td>\n",
       "      <td>0.0</td>\n",
       "      <td>1.467178</td>\n",
       "      <td>0.928355</td>\n",
       "      <td>-1.454019</td>\n",
       "      <td>-0.104461</td>\n",
       "    </tr>\n",
       "    <tr>\n",
       "      <th>SUB_492_SITE_9</th>\n",
       "      <td>1.0</td>\n",
       "      <td>0.0</td>\n",
       "      <td>1.195031</td>\n",
       "      <td>0.929719</td>\n",
       "      <td>-1.254568</td>\n",
       "      <td>-0.342068</td>\n",
       "    </tr>\n",
       "    <tr>\n",
       "      <th>SUB_493_SITE_9</th>\n",
       "      <td>1.0</td>\n",
       "      <td>0.0</td>\n",
       "      <td>1.641957</td>\n",
       "      <td>0.926115</td>\n",
       "      <td>-1.546160</td>\n",
       "      <td>0.114817</td>\n",
       "    </tr>\n",
       "    <tr>\n",
       "      <th>SUB_494_SITE_9</th>\n",
       "      <td>1.0</td>\n",
       "      <td>0.0</td>\n",
       "      <td>1.207868</td>\n",
       "      <td>0.927285</td>\n",
       "      <td>-1.342822</td>\n",
       "      <td>-0.310449</td>\n",
       "    </tr>\n",
       "    <tr>\n",
       "      <th>SUB_495_SITE_9</th>\n",
       "      <td>0.0</td>\n",
       "      <td>1.0</td>\n",
       "      <td>1.965938</td>\n",
       "      <td>0.451008</td>\n",
       "      <td>0.194838</td>\n",
       "      <td>0.991448</td>\n",
       "    </tr>\n",
       "  </tbody>\n",
       "</table>\n",
       "<p>5000 rows × 6 columns</p>\n",
       "</div>"
      ],
      "text/plain": [
       "                C(Sex)[Female]  C(Sex)[Male]  standardize(Q(\"Age\"))   \n",
       "SUB_0_SITE_0               1.0           0.0               2.151577  \\\n",
       "SUB_1_SITE_0               1.0           0.0               1.186107   \n",
       "SUB_2_SITE_0               0.0           1.0               1.257040   \n",
       "SUB_3_SITE_0               1.0           0.0               0.862002   \n",
       "SUB_4_SITE_0               1.0           0.0               1.404043   \n",
       "...                        ...           ...                    ...   \n",
       "SUB_491_SITE_9             1.0           0.0               1.467178   \n",
       "SUB_492_SITE_9             1.0           0.0               1.195031   \n",
       "SUB_493_SITE_9             1.0           0.0               1.641957   \n",
       "SUB_494_SITE_9             1.0           0.0               1.207868   \n",
       "SUB_495_SITE_9             0.0           1.0               1.965938   \n",
       "\n",
       "                standardize(Q(\"eTIV\"))  standardize(Q(\"y_0\"))   \n",
       "SUB_0_SITE_0                  0.929978              -0.690339  \\\n",
       "SUB_1_SITE_0                  0.927382              -0.902737   \n",
       "SUB_2_SITE_0                  0.450961               1.148109   \n",
       "SUB_3_SITE_0                  0.928355              -0.915231   \n",
       "SUB_4_SITE_0                  0.932197              -0.677242   \n",
       "...                                ...                    ...   \n",
       "SUB_491_SITE_9                0.928355              -1.454019   \n",
       "SUB_492_SITE_9                0.929719              -1.254568   \n",
       "SUB_493_SITE_9                0.926115              -1.546160   \n",
       "SUB_494_SITE_9                0.927285              -1.342822   \n",
       "SUB_495_SITE_9                0.451008               0.194838   \n",
       "\n",
       "                standardize(Q(\"y_1\"))  \n",
       "SUB_0_SITE_0                 0.665926  \n",
       "SUB_1_SITE_0                -0.193873  \n",
       "SUB_2_SITE_0                 0.819459  \n",
       "SUB_3_SITE_0                -0.639821  \n",
       "SUB_4_SITE_0                -0.029836  \n",
       "...                               ...  \n",
       "SUB_491_SITE_9              -0.104461  \n",
       "SUB_492_SITE_9              -0.342068  \n",
       "SUB_493_SITE_9               0.114817  \n",
       "SUB_494_SITE_9              -0.310449  \n",
       "SUB_495_SITE_9               0.991448  \n",
       "\n",
       "[5000 rows x 6 columns]"
      ]
     },
     "execution_count": 3,
     "metadata": {},
     "output_type": "execute_result"
    }
   ],
   "source": [
    "data_module.X"
   ]
  },
  {
   "cell_type": "code",
   "execution_count": 4,
   "metadata": {
    "ExecuteTime": {
     "end_time": "2023-07-03T21:48:50.518699Z",
     "start_time": "2023-07-03T21:48:50.400075Z"
    }
   },
   "outputs": [
    {
     "name": "stdout",
     "output_type": "stream",
     "text": [
      "torch.Size([6, 6]) torch.Size([6, 10])\n"
     ]
    }
   ],
   "source": [
    "from mecvae.lit_models.cvae import LitFlexCVAE\n",
    "import torch.nn as nn\n",
    "\n",
    "# Import LitCVAE\n",
    "\n",
    "model = LitFlexCVAE(data_dim=data_module.n_features,\n",
    "                    conditioning_dim=data_module.n_batches,\n",
    "                    # lr=1e-5, activation=nn.Tanh(),\n",
    "                    hidden_dim=[256, 128],\n",
    "                    z_dim=64,\n",
    "                    optimizer='adam')\n",
    "\n",
    "# Test model with batch\n",
    "x, y = next(iter(data_module.train_dataloader()))\n",
    "print(x.shape, y.shape)\n",
    "x_hat, mu, log_var = model(x, y)"
   ]
  },
  {
   "cell_type": "code",
   "execution_count": 6,
   "metadata": {
    "ExecuteTime": {
     "end_time": "2023-07-03T21:48:50.518916Z",
     "start_time": "2023-07-03T21:48:50.456038Z"
    },
    "collapsed": false
   },
   "outputs": [],
   "source": [
    "# Train model using pytorch lightning\n",
    "from pytorch_lightning import Trainer\n",
    "from pytorch_lightning.callbacks import EarlyStopping, ModelCheckpoint\n",
    "from pytorch_lightning.loggers import TensorBoardLogger\n",
    "\n",
    "# Define logger\n",
    "logger = TensorBoardLogger(save_dir='/Users/ssilvari/PycharmProjects/Fed-MECVAE/lightning_logs_synthetic', name='cVAE (Flex)')\n",
    "\n",
    "# Save best model using a model checkpoint callback\n",
    "checkpoint_callback = ModelCheckpoint(\n",
    "    monitor='Validation/loss',\n",
    "    dirpath=logger.log_dir,\n",
    "    filename='cVAE (Flex)-{epoch:02d}-{Validation-loss:.2f}',\n",
    "    save_top_k=1,\n",
    "    mode='min',\n",
    ")\n",
    "\n",
    "# Define early stopping callback\n",
    "callbacks = [EarlyStopping(monitor='Validation/loss', patience=10), checkpoint_callback]"
   ]
  },
  {
   "cell_type": "code",
   "execution_count": 7,
   "metadata": {
    "ExecuteTime": {
     "end_time": "2023-07-03T21:50:10.398382Z",
     "start_time": "2023-07-03T21:48:50.486276Z"
    },
    "collapsed": false
   },
   "outputs": [
    {
     "name": "stderr",
     "output_type": "stream",
     "text": [
      "/Users/ssilvari/Library/Caches/pypoetry/virtualenvs/mecvae-_b3Dgs6W-py3.11/lib/python3.11/site-packages/lightning_fabric/connector.py:562: UserWarning: 16 is supported for historical reasons but its usage is discouraged. Please set your precision to 16-mixed instead!\n",
      "  rank_zero_warn(\n",
      "/Users/ssilvari/Library/Caches/pypoetry/virtualenvs/mecvae-_b3Dgs6W-py3.11/lib/python3.11/site-packages/pytorch_lightning/trainer/connectors/accelerator_connector.py:517: UserWarning: You passed `Trainer(accelerator='cpu', precision='16-mixed')` but AMP with fp16 is not supported on CPU. Using `precision='bf16-mixed'` instead.\n",
      "  rank_zero_warn(\n",
      "Using bfloat16 Automatic Mixed Precision (AMP)\n",
      "GPU available: True (mps), used: False\n",
      "TPU available: False, using: 0 TPU cores\n",
      "IPU available: False, using: 0 IPUs\n",
      "HPU available: False, using: 0 HPUs\n",
      "/Users/ssilvari/Library/Caches/pypoetry/virtualenvs/mecvae-_b3Dgs6W-py3.11/lib/python3.11/site-packages/pytorch_lightning/trainer/setup.py:201: UserWarning: MPS available but not used. Set `accelerator` and `devices` using `Trainer(accelerator='mps', devices=1)`.\n",
      "  rank_zero_warn(\n",
      "\n",
      "  | Name      | Type       | Params\n",
      "-----------------------------------------\n",
      "0 | encoder   | Sequential | 37.2 K\n",
      "1 | fc_mean   | Linear     | 8.3 K \n",
      "2 | fc_logvar | Linear     | 8.3 K \n",
      "3 | decoder   | Sequential | 44.2 K\n",
      "-----------------------------------------\n",
      "97.9 K    Trainable params\n",
      "0         Non-trainable params\n",
      "97.9 K    Total params\n",
      "0.392     Total estimated model params size (MB)\n"
     ]
    },
    {
     "name": "stdout",
     "output_type": "stream",
     "text": [
      "Reading /Users/ssilvari/Downloads/fedcombat_synthetic_data/test/non_harmonized_data.csv...\n",
      "Number of numerical variables: self.n_num_cols=4\n",
      "Number of categorical variables: self.n_cat_cols=1\n",
      "Number of batches: 10\n"
     ]
    },
    {
     "name": "stderr",
     "output_type": "stream",
     "text": [
      "/Users/ssilvari/Library/Caches/pypoetry/virtualenvs/mecvae-_b3Dgs6W-py3.11/lib/python3.11/site-packages/pytorch_lightning/trainer/connectors/data_connector.py:430: PossibleUserWarning: The dataloader, val_dataloader, does not have many workers which may be a bottleneck. Consider increasing the value of the `num_workers` argument` (try 8 which is the number of cpus on this machine) in the `DataLoader` init to improve performance.\n",
      "  rank_zero_warn(\n",
      "/Users/ssilvari/Library/Caches/pypoetry/virtualenvs/mecvae-_b3Dgs6W-py3.11/lib/python3.11/site-packages/pytorch_lightning/trainer/connectors/data_connector.py:430: PossibleUserWarning: The dataloader, train_dataloader, does not have many workers which may be a bottleneck. Consider increasing the value of the `num_workers` argument` (try 8 which is the number of cpus on this machine) in the `DataLoader` init to improve performance.\n",
      "  rank_zero_warn(\n"
     ]
    },
    {
     "name": "stdout",
     "output_type": "stream",
     "text": [
      "Epoch 00089: reducing learning rate of group 0 to 1.0000e-04.\n",
      "Epoch 00109: reducing learning rate of group 0 to 1.0000e-05.\n",
      "Epoch 00117: reducing learning rate of group 0 to 1.0000e-06.\n",
      "Epoch 00125: reducing learning rate of group 0 to 1.0000e-07.\n"
     ]
    }
   ],
   "source": [
    "# Define trainer\n",
    "trainer = Trainer(max_epochs=2000, callbacks=callbacks, logger=logger, enable_progress_bar=False, accelerator='cpu',\n",
    "                  gradient_clip_val=1.0, accumulate_grad_batches=4, precision=16)\n",
    "chekpoint_model = checkpoint_callback.best_model_path if os.path.exists(checkpoint_callback.best_model_path) else None\n",
    "\n",
    "# Train model\n",
    "trainer.fit(model, data_module, ckpt_path=chekpoint_model)\n",
    "\n",
    "# Load best model\n",
    "model = LitFlexCVAE.load_from_checkpoint(checkpoint_callback.best_model_path)"
   ]
  },
  {
   "cell_type": "code",
   "execution_count": 8,
   "metadata": {
    "ExecuteTime": {
     "end_time": "2023-07-03T21:50:10.458088Z",
     "start_time": "2023-07-03T21:50:10.399195Z"
    }
   },
   "outputs": [
    {
     "data": {
      "text/plain": [
       "'/Users/ssilvari/PycharmProjects/Fed-MECVAE/lightning_logs_synthetic/cVAE (Flex)/version_5/cVAE (Flex)-epoch=118-Validation-loss=0.00.ckpt'"
      ]
     },
     "execution_count": 8,
     "metadata": {},
     "output_type": "execute_result"
    }
   ],
   "source": [
    "checkpoint_callback.best_model_path"
   ]
  },
  {
   "cell_type": "code",
   "execution_count": 5,
   "metadata": {
    "ExecuteTime": {
     "end_time": "2023-07-03T21:50:10.798846Z",
     "start_time": "2023-07-03T21:50:10.458986Z"
    }
   },
   "outputs": [],
   "source": [
    "# Predict the whole dataset removing the batch effect by sampling y from a categorical distribution\n",
    "import torch\n",
    "\n",
    "# Compute probabilities of y\n",
    "y_probs = data_module.y.value_counts(normalize=True).sort_index().values\n",
    "y_probs = torch.tensor(y_probs, dtype=torch.float32)\n",
    "\n",
    "# Extract tensors from data_module\n",
    "x = torch.tensor(data_module.X.values, dtype=torch.float32)\n",
    "\n",
    "# Create a list of predictions (we'll sample 100 times)\n",
    "x_hats = []\n",
    "for _ in range(30):\n",
    "    with torch.no_grad():\n",
    "        # Sample y\n",
    "        y = torch.multinomial(y_probs, len(data_module.y), replacement=True)\n",
    "        # One hot encode\n",
    "        y = torch.nn.functional.one_hot(y, num_classes=len(y_probs)) #* 0\n",
    "        # print(x.shape, y.shape)\n",
    "\n",
    "        # Predict x\n",
    "        x_hat, mu, log_var = model(x, y)\n",
    "\n",
    "        # Append to list\n",
    "        x_hats.append(x_hat.detach())\n",
    "\n",
    "# Compute x_hat mean from samples\n",
    "x_hat_mean = torch.stack(x_hats).mean(dim=0)"
   ]
  },
  {
   "cell_type": "code",
   "execution_count": 6,
   "metadata": {
    "ExecuteTime": {
     "end_time": "2023-07-03T21:50:10.862838Z",
     "start_time": "2023-07-03T21:50:10.801105Z"
    }
   },
   "outputs": [
    {
     "name": "stdout",
     "output_type": "stream",
     "text": [
      "                     eTIV       y_0        y_1\n",
      "SUB_0_SITE_0  1816.601460  6.861273  10.393136\n",
      "SUB_1_SITE_0  1808.650993  7.075057  10.412584\n",
      "SUB_2_SITE_0  1820.727812  6.619480  10.283878\n",
      "SUB_3_SITE_0  1806.689113  6.952393  10.096791\n",
      "SUB_4_SITE_0  1817.098473  6.637516  10.073777\n",
      "                       eTIV       y_0        y_1        Age     Sex    site\n",
      "SUB_0_SITE_0    1816.601460  6.861273  10.393136  91.594612  Female  Site 0\n",
      "SUB_1_SITE_0    1808.650993  7.075057  10.412584  67.314133  Female  Site 0\n",
      "SUB_2_SITE_0    1820.727812  6.619480  10.283878  69.098038    Male  Site 0\n",
      "SUB_3_SITE_0    1806.689113  6.952393  10.096791  59.163277  Female  Site 0\n",
      "SUB_4_SITE_0    1817.098473  6.637516  10.073777  72.794983  Female  Site 0\n",
      "...                     ...       ...        ...        ...     ...     ...\n",
      "SUB_491_SITE_9  1798.276896  6.639803  10.423545  74.382774  Female  Site 9\n",
      "SUB_492_SITE_9  1790.322302  7.088334  10.085405  67.538574  Female  Site 9\n",
      "SUB_493_SITE_9  1797.781230  6.988504  10.312612  78.778259  Female  Site 9\n",
      "SUB_494_SITE_9  1808.303811  6.742690  10.356793  67.861397  Female  Site 9\n",
      "SUB_495_SITE_9  1805.212469  7.053179  10.156832  86.926018    Male  Site 9\n",
      "\n",
      "[5000 rows x 6 columns]\n",
      "Harmonized data saved to /Users/ssilvari/Downloads/fedcombat_synthetic_data/test/harmonized_cVAE.csv\n"
     ]
    }
   ],
   "source": [
    "# Create a dataframe with the predictions\n",
    "import os\n",
    "import re\n",
    "import pandas as pd\n",
    "\n",
    "x_hat_df = pd.DataFrame(x_hat_mean.numpy(), columns=data_module.X.columns, index=data_module.df.index)\n",
    "\n",
    "# Remove covariate columns. Those containing 'Age', 'Sex', 'DX'\n",
    "x_hat_df = x_hat_df.loc[:, ~x_hat_df.columns.str.contains('Age|Sex|DX')]\n",
    "\n",
    "# Extract the phenotype name using a regex knwong that the column names are wrapped by something like this: standardize(Q(\"lh_inferiorparietal_thickness\")) where lh_inferiorparietal_thickness is the phenotype name\n",
    "x_hat_df.columns = [re.search(r'Q\\(\"(.*)\"\\)', col).group(1) for col in x_hat_df.columns]\n",
    "\n",
    "# Back transform from the standardization\n",
    "x_hat_df_destd = x_hat_df * data_module.df[x_hat_df.columns].std() + data_module.df[x_hat_df.columns].mean()\n",
    "print(x_hat_df_destd.head())\n",
    "\n",
    "# Join the rest of the columns present in data_module.df that are not in x_hat_df_destd\n",
    "x_hat_df_destd = x_hat_df_destd.join(data_module.df.loc[:, ~data_module.df.columns.isin(x_hat_df_destd.columns)])\n",
    "print(x_hat_df_destd)\n",
    "\n",
    "# save as csv\n",
    "root_dir = os.path.dirname(data_module.csv_file)\n",
    "harmonized_csv = root_dir + os.sep + 'harmonized_cVAE.csv'\n",
    "x_hat_df_destd.to_csv(harmonized_csv)\n",
    "print(f'Harmonized data saved to {harmonized_csv}')"
   ]
  },
  {
   "cell_type": "code",
   "execution_count": 7,
   "metadata": {
    "ExecuteTime": {
     "end_time": "2023-07-03T21:50:10.905340Z",
     "start_time": "2023-07-03T21:50:10.863449Z"
    }
   },
   "outputs": [],
   "source": [
    "# Add to `methods_params.csv` in the same folder\n",
    "methods_params_file = root_dir + os.sep + 'methods_params.csv'\n",
    "methods_params = pd.read_csv(methods_params_file)\n",
    "\n",
    "# Create new entry\n",
    "cvae_mparams = pd.DataFrame([{\n",
    "    'Method': 'cVAE',\n",
    "    'data_file_path': harmonized_csv,\n",
    "    'classification_results_path': root_dir + os.sep + 'benchmark cVAE.csv'\n",
    "}])\n",
    "\n",
    "methods_params = pd.concat([methods_params, cvae_mparams], ignore_index=True).drop_duplicates()\n",
    "\n",
    "# save as csv ignore index\n",
    "methods_params.to_csv(methods_params_file, index=False)"
   ]
  },
  {
   "cell_type": "code",
   "execution_count": 8,
   "metadata": {
    "ExecuteTime": {
     "end_time": "2023-07-03T21:50:10.943404Z",
     "start_time": "2023-07-03T21:50:10.905495Z"
    }
   },
   "outputs": [
    {
     "name": "stdout",
     "output_type": "stream",
     "text": [
      "Done at 2023-07-07 11:13:50.440668\n"
     ]
    }
   ],
   "source": [
    "# Print done with date time\n",
    "from datetime import datetime\n",
    "print(f'Done at {datetime.now()}')"
   ]
  },
  {
   "cell_type": "code",
   "execution_count": 12,
   "metadata": {
    "ExecuteTime": {
     "end_time": "2023-07-03T21:50:10.944936Z",
     "start_time": "2023-07-03T21:50:10.943747Z"
    },
    "collapsed": false
   },
   "outputs": [],
   "source": []
  }
 ],
 "metadata": {
  "kernelspec": {
   "display_name": "Python 3 (ipykernel)",
   "language": "python",
   "name": "python3"
  },
  "language_info": {
   "codemirror_mode": {
    "name": "ipython",
    "version": 3
   },
   "file_extension": ".py",
   "mimetype": "text/x-python",
   "name": "python",
   "nbconvert_exporter": "python",
   "pygments_lexer": "ipython3",
   "version": "3.11.2"
  }
 },
 "nbformat": 4,
 "nbformat_minor": 2
}
